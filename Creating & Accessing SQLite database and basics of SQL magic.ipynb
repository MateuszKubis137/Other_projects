{
 "cells": [
  {
   "cell_type": "markdown",
   "id": "14d0c662-8999-41d1-bf8c-56af5de88109",
   "metadata": {},
   "source": [
    "## Create & Access SQLite database using Python"
   ]
  },
  {
   "cell_type": "code",
   "execution_count": 1,
   "id": "0df1cb8a-b1ad-49b7-b65c-2ffe2a7dd69e",
   "metadata": {},
   "outputs": [],
   "source": [
    "import sqlite3"
   ]
  },
  {
   "cell_type": "markdown",
   "id": "bd174e49-b077-4632-a8f4-a9ee660f2cf1",
   "metadata": {},
   "source": [
    "Creating a database and establishing the connection"
   ]
  },
  {
   "cell_type": "code",
   "execution_count": 2,
   "id": "c1b2213c-657a-4612-914c-d721ce198771",
   "metadata": {
    "tags": []
   },
   "outputs": [],
   "source": [
    "conn = sqlite3.connect(\"UFC_competitors.db\")\n",
    "# Pass \":memory:\" to open a connection to a database that is in RAM instead of on disk."
   ]
  },
  {
   "cell_type": "code",
   "execution_count": 3,
   "id": "9db4210a-2a1d-4f22-9380-ea8a79641a7a",
   "metadata": {},
   "outputs": [],
   "source": [
    "cursor = conn.cursor()"
   ]
  },
  {
   "cell_type": "markdown",
   "id": "251f06a6-e5fa-49a2-8a5c-f0aee713f55f",
   "metadata": {},
   "source": [
    "Creating a table"
   ]
  },
  {
   "cell_type": "code",
   "execution_count": 4,
   "id": "10157944-aa60-48ff-a595-c92182b19cd0",
   "metadata": {},
   "outputs": [
    {
     "name": "stdout",
     "output_type": "stream",
     "text": [
      "Created table competitors\n"
     ]
    }
   ],
   "source": [
    "cursor.execute(\"DROP TABLE IF EXISTS competitors\") \n",
    "\n",
    "table_competitors = \"\"\"\n",
    "CREATE TABLE competitors \n",
    "(id INTEGER PRIMARY KEY AUTOINCREMENT,\n",
    "f_name VARCHAR(15) NOT NULL,\n",
    "l_name VARCHAR(15) NOT NULL,\n",
    "weight_class INTEGER);\n",
    "\"\"\"\n",
    "\n",
    "cursor.execute(table_competitors)\n",
    "\n",
    "print(\"Created table competitors\")"
   ]
  },
  {
   "cell_type": "markdown",
   "id": "5b41bec0-35e4-4aaf-8104-bddfae7e8560",
   "metadata": {},
   "source": [
    "Inserting data into a table using placeholders instead of string formatting to bind Python values to SQL statements and avoid SQL injection attacks"
   ]
  },
  {
   "cell_type": "code",
   "execution_count": 5,
   "id": "48330f4a-5e22-4e0b-926d-1111529a6172",
   "metadata": {},
   "outputs": [],
   "source": [
    "data = [\n",
    "(1, \"Jan\", \"Blachowicz\", 205),\n",
    "(2, \"Aleksander\", \"Volkanovski\", 145),\n",
    "(3, \"Amanda\", \"Nunes\", 135),\n",
    "(4, \"Stephen\", \"Thompson\", 170),\n",
    "(5, \"Dustin\", \"Poirier\", 155),\n",
    "]\n",
    "\n",
    "cursor.executemany(\"\"\"\n",
    "INSERT INTO competitors VALUES (?, ?, ?, ?)\"\"\", data)\n",
    "\n",
    "conn.commit()"
   ]
  },
  {
   "cell_type": "markdown",
   "id": "86eda1ea-849a-4e2a-9e85-bee198e7e02f",
   "metadata": {},
   "source": [
    "Query data in the table"
   ]
  },
  {
   "cell_type": "code",
   "execution_count": 6,
   "id": "6bb9c4ff-4dc4-4f3a-a7f5-06ac6dfcbde0",
   "metadata": {},
   "outputs": [
    {
     "name": "stdout",
     "output_type": "stream",
     "text": [
      "(1, 'Jan', 'Blachowicz', 205)\n",
      "(2, 'Aleksander', 'Volkanovski', 145)\n",
      "(3, 'Amanda', 'Nunes', 135)\n",
      "The rest of the cursor content:\n"
     ]
    },
    {
     "data": {
      "text/plain": [
       "[(4, 'Stephen', 'Thompson', 170), (5, 'Dustin', 'Poirier', 155)]"
      ]
     },
     "execution_count": 6,
     "metadata": {},
     "output_type": "execute_result"
    }
   ],
   "source": [
    "query = \"SELECT * FROM competitors\"\n",
    "cursor.execute(query)\n",
    "three_rows = cursor.fetchmany(3)\n",
    "for x in three_rows:\n",
    "    print(x) \n",
    "\n",
    "print(\"The rest of the cursor content:\")\n",
    "cursor.fetchall()"
   ]
  },
  {
   "cell_type": "markdown",
   "id": "a7d5397f-4e29-4f61-8a11-673c6ae51ade",
   "metadata": {},
   "source": [
    "Update table"
   ]
  },
  {
   "cell_type": "code",
   "execution_count": 7,
   "id": "c85a43c5-bc54-425d-b184-5dfb42c7dc0a",
   "metadata": {},
   "outputs": [],
   "source": [
    "update = \"UPDATE competitors SET weight_class = 145 where id = 3\"\n",
    "cursor.execute(update)\n",
    "conn.commit()"
   ]
  },
  {
   "cell_type": "code",
   "execution_count": 8,
   "id": "8508a7aa-17c3-4348-9094-059392810f55",
   "metadata": {},
   "outputs": [
    {
     "data": {
      "text/plain": [
       "(3, 'Amanda', 'Nunes', 145)"
      ]
     },
     "execution_count": 8,
     "metadata": {},
     "output_type": "execute_result"
    }
   ],
   "source": [
    "cursor.execute(\"SELECT * FROM competitors where id = 3\")\n",
    "cursor.fetchone()"
   ]
  },
  {
   "cell_type": "markdown",
   "id": "f4deedad-fff8-4f2f-b1fa-0a75b76fcd8e",
   "metadata": {},
   "source": [
    "### Retrieve data into pandas DataFrame"
   ]
  },
  {
   "cell_type": "code",
   "execution_count": 9,
   "id": "7e867ab8-e6f8-4657-b818-d2741893012a",
   "metadata": {},
   "outputs": [],
   "source": [
    "import pandas as pd"
   ]
  },
  {
   "cell_type": "markdown",
   "id": "b7fbcdc0-de26-47d6-99ef-77fd3b2f6d3a",
   "metadata": {},
   "source": [
    "read_sql_query method"
   ]
  },
  {
   "cell_type": "code",
   "execution_count": 10,
   "id": "c5422aff-30f9-4a3b-8b0b-8970d714ade1",
   "metadata": {},
   "outputs": [
    {
     "data": {
      "text/html": [
       "<div>\n",
       "<style scoped>\n",
       "    .dataframe tbody tr th:only-of-type {\n",
       "        vertical-align: middle;\n",
       "    }\n",
       "\n",
       "    .dataframe tbody tr th {\n",
       "        vertical-align: top;\n",
       "    }\n",
       "\n",
       "    .dataframe thead th {\n",
       "        text-align: right;\n",
       "    }\n",
       "</style>\n",
       "<table border=\"1\" class=\"dataframe\">\n",
       "  <thead>\n",
       "    <tr style=\"text-align: right;\">\n",
       "      <th></th>\n",
       "      <th>f_name</th>\n",
       "      <th>l_name</th>\n",
       "      <th>weight_class</th>\n",
       "    </tr>\n",
       "    <tr>\n",
       "      <th>id</th>\n",
       "      <th></th>\n",
       "      <th></th>\n",
       "      <th></th>\n",
       "    </tr>\n",
       "  </thead>\n",
       "  <tbody>\n",
       "    <tr>\n",
       "      <th>1</th>\n",
       "      <td>Jan</td>\n",
       "      <td>Blachowicz</td>\n",
       "      <td>205</td>\n",
       "    </tr>\n",
       "    <tr>\n",
       "      <th>4</th>\n",
       "      <td>Stephen</td>\n",
       "      <td>Thompson</td>\n",
       "      <td>170</td>\n",
       "    </tr>\n",
       "    <tr>\n",
       "      <th>5</th>\n",
       "      <td>Dustin</td>\n",
       "      <td>Poirier</td>\n",
       "      <td>155</td>\n",
       "    </tr>\n",
       "  </tbody>\n",
       "</table>\n",
       "</div>"
      ],
      "text/plain": [
       "     f_name      l_name  weight_class\n",
       "id                                   \n",
       "1       Jan  Blachowicz           205\n",
       "4   Stephen    Thompson           170\n",
       "5    Dustin     Poirier           155"
      ]
     },
     "execution_count": 10,
     "metadata": {},
     "output_type": "execute_result"
    }
   ],
   "source": [
    "df = pd.read_sql_query(\"SELECT * FROM competitors WHERE weight_class > 145\", conn, index_col = \"id\")\n",
    "df"
   ]
  },
  {
   "cell_type": "markdown",
   "id": "efe05684-1c9a-49a0-bc0a-82c448842a46",
   "metadata": {},
   "source": [
    "##### read_sql_table method\n",
    "\n",
    "When retrieving a table, specify 'con' parameter as URI or SQLAlchemy connectable.\n",
    "\n",
    "SQLite DBAPI connection mode not supported."
   ]
  },
  {
   "cell_type": "code",
   "execution_count": 11,
   "id": "7db398ec-88da-4491-b7ff-fee74b1505a8",
   "metadata": {
    "tags": []
   },
   "outputs": [],
   "source": [
    "import sqlalchemy\n",
    "engine = sqlalchemy.create_engine(\"sqlite:///UFC_competitors.db\")\n",
    "connection = engine.connect()"
   ]
  },
  {
   "cell_type": "code",
   "execution_count": 12,
   "id": "77a5b87b-8037-46f0-9caf-9c263eea06c8",
   "metadata": {},
   "outputs": [
    {
     "data": {
      "text/html": [
       "<div>\n",
       "<style scoped>\n",
       "    .dataframe tbody tr th:only-of-type {\n",
       "        vertical-align: middle;\n",
       "    }\n",
       "\n",
       "    .dataframe tbody tr th {\n",
       "        vertical-align: top;\n",
       "    }\n",
       "\n",
       "    .dataframe thead th {\n",
       "        text-align: right;\n",
       "    }\n",
       "</style>\n",
       "<table border=\"1\" class=\"dataframe\">\n",
       "  <thead>\n",
       "    <tr style=\"text-align: right;\">\n",
       "      <th></th>\n",
       "      <th>f_name</th>\n",
       "      <th>l_name</th>\n",
       "      <th>weight_class</th>\n",
       "    </tr>\n",
       "    <tr>\n",
       "      <th>id</th>\n",
       "      <th></th>\n",
       "      <th></th>\n",
       "      <th></th>\n",
       "    </tr>\n",
       "  </thead>\n",
       "  <tbody>\n",
       "    <tr>\n",
       "      <th>1</th>\n",
       "      <td>Jan</td>\n",
       "      <td>Blachowicz</td>\n",
       "      <td>205</td>\n",
       "    </tr>\n",
       "    <tr>\n",
       "      <th>2</th>\n",
       "      <td>Aleksander</td>\n",
       "      <td>Volkanovski</td>\n",
       "      <td>145</td>\n",
       "    </tr>\n",
       "    <tr>\n",
       "      <th>3</th>\n",
       "      <td>Amanda</td>\n",
       "      <td>Nunes</td>\n",
       "      <td>145</td>\n",
       "    </tr>\n",
       "    <tr>\n",
       "      <th>4</th>\n",
       "      <td>Stephen</td>\n",
       "      <td>Thompson</td>\n",
       "      <td>170</td>\n",
       "    </tr>\n",
       "    <tr>\n",
       "      <th>5</th>\n",
       "      <td>Dustin</td>\n",
       "      <td>Poirier</td>\n",
       "      <td>155</td>\n",
       "    </tr>\n",
       "  </tbody>\n",
       "</table>\n",
       "</div>"
      ],
      "text/plain": [
       "        f_name       l_name  weight_class\n",
       "id                                       \n",
       "1          Jan   Blachowicz           205\n",
       "2   Aleksander  Volkanovski           145\n",
       "3       Amanda        Nunes           145\n",
       "4      Stephen     Thompson           170\n",
       "5       Dustin      Poirier           155"
      ]
     },
     "execution_count": 12,
     "metadata": {},
     "output_type": "execute_result"
    }
   ],
   "source": [
    "df2 = pd.read_sql_table(\"competitors\", connection, index_col=\"id\")\n",
    "df2"
   ]
  },
  {
   "cell_type": "code",
   "execution_count": 13,
   "id": "69984558-4662-4728-9fb6-75a9119639eb",
   "metadata": {
    "tags": []
   },
   "outputs": [
    {
     "data": {
      "text/html": [
       "<div>\n",
       "<style scoped>\n",
       "    .dataframe tbody tr th:only-of-type {\n",
       "        vertical-align: middle;\n",
       "    }\n",
       "\n",
       "    .dataframe tbody tr th {\n",
       "        vertical-align: top;\n",
       "    }\n",
       "\n",
       "    .dataframe thead th {\n",
       "        text-align: right;\n",
       "    }\n",
       "</style>\n",
       "<table border=\"1\" class=\"dataframe\">\n",
       "  <thead>\n",
       "    <tr style=\"text-align: right;\">\n",
       "      <th></th>\n",
       "      <th>f_name</th>\n",
       "      <th>l_name</th>\n",
       "      <th>weight_class</th>\n",
       "    </tr>\n",
       "    <tr>\n",
       "      <th>id</th>\n",
       "      <th></th>\n",
       "      <th></th>\n",
       "      <th></th>\n",
       "    </tr>\n",
       "  </thead>\n",
       "  <tbody>\n",
       "    <tr>\n",
       "      <th>1</th>\n",
       "      <td>Jan</td>\n",
       "      <td>Blachowicz</td>\n",
       "      <td>205</td>\n",
       "    </tr>\n",
       "    <tr>\n",
       "      <th>2</th>\n",
       "      <td>Aleksander</td>\n",
       "      <td>Volkanovski</td>\n",
       "      <td>145</td>\n",
       "    </tr>\n",
       "    <tr>\n",
       "      <th>3</th>\n",
       "      <td>Amanda</td>\n",
       "      <td>Nunes</td>\n",
       "      <td>145</td>\n",
       "    </tr>\n",
       "    <tr>\n",
       "      <th>4</th>\n",
       "      <td>Stephen</td>\n",
       "      <td>Thompson</td>\n",
       "      <td>170</td>\n",
       "    </tr>\n",
       "    <tr>\n",
       "      <th>5</th>\n",
       "      <td>Dustin</td>\n",
       "      <td>Poirier</td>\n",
       "      <td>155</td>\n",
       "    </tr>\n",
       "  </tbody>\n",
       "</table>\n",
       "</div>"
      ],
      "text/plain": [
       "        f_name       l_name  weight_class\n",
       "id                                       \n",
       "1          Jan   Blachowicz           205\n",
       "2   Aleksander  Volkanovski           145\n",
       "3       Amanda        Nunes           145\n",
       "4      Stephen     Thompson           170\n",
       "5       Dustin      Poirier           155"
      ]
     },
     "execution_count": 13,
     "metadata": {},
     "output_type": "execute_result"
    }
   ],
   "source": [
    "df2 = pd.read_sql_table(\"competitors\", \"sqlite:///UFC_competitors.db\", index_col=\"id\")\n",
    "df2"
   ]
  },
  {
   "cell_type": "markdown",
   "id": "4d70de8c-ea35-4383-8596-7ffbe4420a0c",
   "metadata": {},
   "source": [
    "##### read_sql method\n",
    "can be used both for queries and for table retrieval"
   ]
  },
  {
   "cell_type": "code",
   "execution_count": 14,
   "id": "02010625-4bb1-4740-93cc-8b8caf6a018b",
   "metadata": {
    "tags": []
   },
   "outputs": [
    {
     "data": {
      "text/html": [
       "<div>\n",
       "<style scoped>\n",
       "    .dataframe tbody tr th:only-of-type {\n",
       "        vertical-align: middle;\n",
       "    }\n",
       "\n",
       "    .dataframe tbody tr th {\n",
       "        vertical-align: top;\n",
       "    }\n",
       "\n",
       "    .dataframe thead th {\n",
       "        text-align: right;\n",
       "    }\n",
       "</style>\n",
       "<table border=\"1\" class=\"dataframe\">\n",
       "  <thead>\n",
       "    <tr style=\"text-align: right;\">\n",
       "      <th></th>\n",
       "      <th>l_name</th>\n",
       "      <th>weight_class</th>\n",
       "    </tr>\n",
       "  </thead>\n",
       "  <tbody>\n",
       "    <tr>\n",
       "      <th>0</th>\n",
       "      <td>Blachowicz</td>\n",
       "      <td>205</td>\n",
       "    </tr>\n",
       "    <tr>\n",
       "      <th>1</th>\n",
       "      <td>Volkanovski</td>\n",
       "      <td>145</td>\n",
       "    </tr>\n",
       "    <tr>\n",
       "      <th>2</th>\n",
       "      <td>Nunes</td>\n",
       "      <td>145</td>\n",
       "    </tr>\n",
       "    <tr>\n",
       "      <th>3</th>\n",
       "      <td>Thompson</td>\n",
       "      <td>170</td>\n",
       "    </tr>\n",
       "    <tr>\n",
       "      <th>4</th>\n",
       "      <td>Poirier</td>\n",
       "      <td>155</td>\n",
       "    </tr>\n",
       "  </tbody>\n",
       "</table>\n",
       "</div>"
      ],
      "text/plain": [
       "        l_name  weight_class\n",
       "0   Blachowicz           205\n",
       "1  Volkanovski           145\n",
       "2        Nunes           145\n",
       "3     Thompson           170\n",
       "4      Poirier           155"
      ]
     },
     "execution_count": 14,
     "metadata": {},
     "output_type": "execute_result"
    }
   ],
   "source": [
    "# read_sql for querry:\n",
    "df = pd.read_sql(\"SELECT l_name, weight_class FROM competitors\", conn)\n",
    "df"
   ]
  },
  {
   "cell_type": "code",
   "execution_count": 15,
   "id": "19c67a43-1f70-4e19-bd65-46a7749a1d60",
   "metadata": {
    "tags": []
   },
   "outputs": [
    {
     "data": {
      "text/html": [
       "<div>\n",
       "<style scoped>\n",
       "    .dataframe tbody tr th:only-of-type {\n",
       "        vertical-align: middle;\n",
       "    }\n",
       "\n",
       "    .dataframe tbody tr th {\n",
       "        vertical-align: top;\n",
       "    }\n",
       "\n",
       "    .dataframe thead th {\n",
       "        text-align: right;\n",
       "    }\n",
       "</style>\n",
       "<table border=\"1\" class=\"dataframe\">\n",
       "  <thead>\n",
       "    <tr style=\"text-align: right;\">\n",
       "      <th></th>\n",
       "      <th>f_name</th>\n",
       "      <th>l_name</th>\n",
       "      <th>weight_class</th>\n",
       "    </tr>\n",
       "    <tr>\n",
       "      <th>id</th>\n",
       "      <th></th>\n",
       "      <th></th>\n",
       "      <th></th>\n",
       "    </tr>\n",
       "  </thead>\n",
       "  <tbody>\n",
       "    <tr>\n",
       "      <th>1</th>\n",
       "      <td>Jan</td>\n",
       "      <td>Blachowicz</td>\n",
       "      <td>205</td>\n",
       "    </tr>\n",
       "    <tr>\n",
       "      <th>2</th>\n",
       "      <td>Aleksander</td>\n",
       "      <td>Volkanovski</td>\n",
       "      <td>145</td>\n",
       "    </tr>\n",
       "    <tr>\n",
       "      <th>3</th>\n",
       "      <td>Amanda</td>\n",
       "      <td>Nunes</td>\n",
       "      <td>145</td>\n",
       "    </tr>\n",
       "    <tr>\n",
       "      <th>4</th>\n",
       "      <td>Stephen</td>\n",
       "      <td>Thompson</td>\n",
       "      <td>170</td>\n",
       "    </tr>\n",
       "    <tr>\n",
       "      <th>5</th>\n",
       "      <td>Dustin</td>\n",
       "      <td>Poirier</td>\n",
       "      <td>155</td>\n",
       "    </tr>\n",
       "  </tbody>\n",
       "</table>\n",
       "</div>"
      ],
      "text/plain": [
       "        f_name       l_name  weight_class\n",
       "id                                       \n",
       "1          Jan   Blachowicz           205\n",
       "2   Aleksander  Volkanovski           145\n",
       "3       Amanda        Nunes           145\n",
       "4      Stephen     Thompson           170\n",
       "5       Dustin      Poirier           155"
      ]
     },
     "execution_count": 15,
     "metadata": {},
     "output_type": "execute_result"
    }
   ],
   "source": [
    "# read_sql for table.'Con' parameter defined with the URI:\n",
    "df2 = pd.read_sql(\"competitors\", con=\"sqlite:///UFC_competitors.db\", index_col=\"id\")\n",
    "df2"
   ]
  },
  {
   "cell_type": "code",
   "execution_count": 16,
   "id": "8b3d4d2a-f8bb-4ab9-b69e-b70da6132e6f",
   "metadata": {},
   "outputs": [
    {
     "data": {
      "text/html": [
       "<div>\n",
       "<style scoped>\n",
       "    .dataframe tbody tr th:only-of-type {\n",
       "        vertical-align: middle;\n",
       "    }\n",
       "\n",
       "    .dataframe tbody tr th {\n",
       "        vertical-align: top;\n",
       "    }\n",
       "\n",
       "    .dataframe thead th {\n",
       "        text-align: right;\n",
       "    }\n",
       "</style>\n",
       "<table border=\"1\" class=\"dataframe\">\n",
       "  <thead>\n",
       "    <tr style=\"text-align: right;\">\n",
       "      <th></th>\n",
       "      <th>f_name</th>\n",
       "      <th>l_name</th>\n",
       "      <th>weight_class</th>\n",
       "    </tr>\n",
       "    <tr>\n",
       "      <th>id</th>\n",
       "      <th></th>\n",
       "      <th></th>\n",
       "      <th></th>\n",
       "    </tr>\n",
       "  </thead>\n",
       "  <tbody>\n",
       "    <tr>\n",
       "      <th>1</th>\n",
       "      <td>Jan</td>\n",
       "      <td>Blachowicz</td>\n",
       "      <td>205</td>\n",
       "    </tr>\n",
       "    <tr>\n",
       "      <th>2</th>\n",
       "      <td>Aleksander</td>\n",
       "      <td>Volkanovski</td>\n",
       "      <td>145</td>\n",
       "    </tr>\n",
       "    <tr>\n",
       "      <th>3</th>\n",
       "      <td>Amanda</td>\n",
       "      <td>Nunes</td>\n",
       "      <td>145</td>\n",
       "    </tr>\n",
       "    <tr>\n",
       "      <th>4</th>\n",
       "      <td>Stephen</td>\n",
       "      <td>Thompson</td>\n",
       "      <td>170</td>\n",
       "    </tr>\n",
       "    <tr>\n",
       "      <th>5</th>\n",
       "      <td>Dustin</td>\n",
       "      <td>Poirier</td>\n",
       "      <td>155</td>\n",
       "    </tr>\n",
       "  </tbody>\n",
       "</table>\n",
       "</div>"
      ],
      "text/plain": [
       "        f_name       l_name  weight_class\n",
       "id                                       \n",
       "1          Jan   Blachowicz           205\n",
       "2   Aleksander  Volkanovski           145\n",
       "3       Amanda        Nunes           145\n",
       "4      Stephen     Thompson           170\n",
       "5       Dustin      Poirier           155"
      ]
     },
     "execution_count": 16,
     "metadata": {},
     "output_type": "execute_result"
    }
   ],
   "source": [
    "# read_sql for table. 'Con' parameter defined with SQLAlchemy connection:\n",
    "df2 = pd.read_sql(\"competitors\", con=connection, index_col=\"id\")\n",
    "df2"
   ]
  },
  {
   "cell_type": "code",
   "execution_count": 17,
   "id": "abb4b679-1298-4ce8-905c-dad493467c63",
   "metadata": {},
   "outputs": [],
   "source": [
    "conn.close()\n",
    "connection.close()"
   ]
  },
  {
   "cell_type": "markdown",
   "id": "882c9e3e-4ef8-4f1a-a1ce-46bc2fb58ea2",
   "metadata": {},
   "source": [
    "### SQL Magic"
   ]
  },
  {
   "cell_type": "markdown",
   "id": "8c8cde36-1ffd-4c01-b83c-6b459f756a1f",
   "metadata": {},
   "source": [
    "To communicate with SQL Databases from within a JupyterLab notebook, you can use the SQL \"magic\" provided by the ipython-sql extension. First install the extension and ibm_db_sa driver."
   ]
  },
  {
   "cell_type": "code",
   "execution_count": 18,
   "id": "9f35edec-f7e6-45c5-959a-a5b5f044d0ee",
   "metadata": {
    "collapsed": true,
    "jupyter": {
     "outputs_hidden": true
    },
    "tags": []
   },
   "outputs": [
    {
     "name": "stdout",
     "output_type": "stream",
     "text": [
      "Requirement already satisfied: ipython-sql in c:\\users\\mati\\anaconda3\\lib\\site-packages (0.4.1)\n",
      "Requirement already satisfied: prettytable<1 in c:\\users\\mati\\anaconda3\\lib\\site-packages (from ipython-sql) (0.7.2)\n",
      "Requirement already satisfied: six in c:\\users\\mati\\anaconda3\\lib\\site-packages (from ipython-sql) (1.16.0)\n",
      "Requirement already satisfied: sqlalchemy>=0.6.7 in c:\\users\\mati\\anaconda3\\lib\\site-packages (from ipython-sql) (1.4.39)\n",
      "Requirement already satisfied: sqlparse in c:\\users\\mati\\anaconda3\\lib\\site-packages (from ipython-sql) (0.4.3)\n",
      "Requirement already satisfied: ipython>=1.0 in c:\\users\\mati\\anaconda3\\lib\\site-packages (from ipython-sql) (7.31.1)\n",
      "Requirement already satisfied: ipython-genutils>=0.1.0 in c:\\users\\mati\\anaconda3\\lib\\site-packages (from ipython-sql) (0.2.0)\n",
      "Requirement already satisfied: decorator in c:\\users\\mati\\anaconda3\\lib\\site-packages (from ipython>=1.0->ipython-sql) (5.1.1)\n",
      "Requirement already satisfied: jedi>=0.16 in c:\\users\\mati\\anaconda3\\lib\\site-packages (from ipython>=1.0->ipython-sql) (0.18.1)\n",
      "Requirement already satisfied: matplotlib-inline in c:\\users\\mati\\anaconda3\\lib\\site-packages (from ipython>=1.0->ipython-sql) (0.1.6)\n",
      "Requirement already satisfied: colorama in c:\\users\\mati\\anaconda3\\lib\\site-packages (from ipython>=1.0->ipython-sql) (0.4.5)\n",
      "Requirement already satisfied: pickleshare in c:\\users\\mati\\anaconda3\\lib\\site-packages (from ipython>=1.0->ipython-sql) (0.7.5)\n",
      "Requirement already satisfied: backcall in c:\\users\\mati\\anaconda3\\lib\\site-packages (from ipython>=1.0->ipython-sql) (0.2.0)\n",
      "Requirement already satisfied: pygments in c:\\users\\mati\\anaconda3\\lib\\site-packages (from ipython>=1.0->ipython-sql) (2.11.2)\n",
      "Requirement already satisfied: traitlets>=4.2 in c:\\users\\mati\\anaconda3\\lib\\site-packages (from ipython>=1.0->ipython-sql) (5.1.1)\n",
      "Requirement already satisfied: prompt-toolkit!=3.0.0,!=3.0.1,<3.1.0,>=2.0.0 in c:\\users\\mati\\anaconda3\\lib\\site-packages (from ipython>=1.0->ipython-sql) (3.0.20)\n",
      "Requirement already satisfied: setuptools>=18.5 in c:\\users\\mati\\anaconda3\\lib\\site-packages (from ipython>=1.0->ipython-sql) (63.4.1)\n",
      "Requirement already satisfied: greenlet!=0.4.17 in c:\\users\\mati\\anaconda3\\lib\\site-packages (from sqlalchemy>=0.6.7->ipython-sql) (1.1.1)\n",
      "Requirement already satisfied: parso<0.9.0,>=0.8.0 in c:\\users\\mati\\anaconda3\\lib\\site-packages (from jedi>=0.16->ipython>=1.0->ipython-sql) (0.8.3)\n",
      "Requirement already satisfied: wcwidth in c:\\users\\mati\\anaconda3\\lib\\site-packages (from prompt-toolkit!=3.0.0,!=3.0.1,<3.1.0,>=2.0.0->ipython>=1.0->ipython-sql) (0.2.5)\n",
      "Requirement already satisfied: ibm_db_sa in c:\\users\\mati\\anaconda3\\lib\\site-packages (0.3.8)\n",
      "Requirement already satisfied: ibm-db>=2.0.0 in c:\\users\\mati\\anaconda3\\lib\\site-packages (from ibm_db_sa) (3.1.4)\n",
      "Requirement already satisfied: sqlalchemy>=0.7.3 in c:\\users\\mati\\anaconda3\\lib\\site-packages (from ibm_db_sa) (1.4.39)\n",
      "Requirement already satisfied: greenlet!=0.4.17 in c:\\users\\mati\\anaconda3\\lib\\site-packages (from sqlalchemy>=0.7.3->ibm_db_sa) (1.1.1)\n"
     ]
    }
   ],
   "source": [
    "!pip install ipython-sql\n",
    "!pip install ibm_db_sa"
   ]
  },
  {
   "cell_type": "markdown",
   "id": "9d71308e-3dc2-44ee-8d68-f8a17d958e42",
   "metadata": {},
   "source": [
    "Then load the SQL extension:"
   ]
  },
  {
   "cell_type": "code",
   "execution_count": 19,
   "id": "27fe6133-14fb-4b89-94ff-3aff4064904e",
   "metadata": {},
   "outputs": [],
   "source": [
    "%load_ext sql"
   ]
  },
  {
   "cell_type": "markdown",
   "id": "1575803c-1fec-4f3d-bb52-50ccd2cca32f",
   "metadata": {},
   "source": [
    "Establishing the connection with the database:"
   ]
  },
  {
   "cell_type": "code",
   "execution_count": 20,
   "id": "7247b60f-6b7a-41ab-9cf5-d8f25dd925e9",
   "metadata": {},
   "outputs": [],
   "source": [
    "%sql sqlite:///UFC_competitors.db"
   ]
  },
  {
   "cell_type": "markdown",
   "id": "c6b69d81-eacb-4dd0-b923-4fae240aad1d",
   "metadata": {},
   "source": [
    "%%sql at the top of a cell allows for the entire cell to be treated as SQL."
   ]
  },
  {
   "cell_type": "markdown",
   "id": "ed44b409-74e6-4786-9e2f-4f4aea665847",
   "metadata": {},
   "source": [
    "Python variables can be used in SQL statements by adding a \":\" prefix to python variable names."
   ]
  },
  {
   "cell_type": "code",
   "execution_count": 21,
   "id": "f5007ff5-2201-403a-8d81-bdb2d5261576",
   "metadata": {},
   "outputs": [
    {
     "name": "stdout",
     "output_type": "stream",
     "text": [
      " * sqlite:///UFC_competitors.db\n",
      "Done.\n"
     ]
    },
    {
     "data": {
      "text/html": [
       "<table>\n",
       "    <tr>\n",
       "        <th>id</th>\n",
       "        <th>f_name</th>\n",
       "        <th>l_name</th>\n",
       "        <th>weight_class</th>\n",
       "    </tr>\n",
       "    <tr>\n",
       "        <td>1</td>\n",
       "        <td>Jan</td>\n",
       "        <td>Blachowicz</td>\n",
       "        <td>205</td>\n",
       "    </tr>\n",
       "</table>"
      ],
      "text/plain": [
       "[(1, 'Jan', 'Blachowicz', 205)]"
      ]
     },
     "execution_count": 21,
     "metadata": {},
     "output_type": "execute_result"
    }
   ],
   "source": [
    "light_heavyweight  = 205\n",
    "%sql select * from competitors where weight_class = :light_heavyweight"
   ]
  },
  {
   "cell_type": "markdown",
   "id": "c9999bf7-7f9d-4fc2-8852-7423c10bf6d8",
   "metadata": {},
   "source": [
    "Python assignment syntax can be used to assign the results of queries to python variables."
   ]
  },
  {
   "cell_type": "code",
   "execution_count": 22,
   "id": "c742b152-72d0-4f50-842b-d895fb077477",
   "metadata": {},
   "outputs": [
    {
     "name": "stdout",
     "output_type": "stream",
     "text": [
      " * sqlite:///UFC_competitors.db\n",
      "Done.\n"
     ]
    },
    {
     "data": {
      "text/html": [
       "<table>\n",
       "    <tr>\n",
       "        <th>Last_name</th>\n",
       "    </tr>\n",
       "    <tr>\n",
       "        <td>Blachowicz</td>\n",
       "    </tr>\n",
       "    <tr>\n",
       "        <td>Volkanovski</td>\n",
       "    </tr>\n",
       "    <tr>\n",
       "        <td>Nunes</td>\n",
       "    </tr>\n",
       "    <tr>\n",
       "        <td>Thompson</td>\n",
       "    </tr>\n",
       "    <tr>\n",
       "        <td>Poirier</td>\n",
       "    </tr>\n",
       "</table>"
      ],
      "text/plain": [
       "[('Blachowicz',), ('Volkanovski',), ('Nunes',), ('Thompson',), ('Poirier',)]"
      ]
     },
     "execution_count": 22,
     "metadata": {},
     "output_type": "execute_result"
    }
   ],
   "source": [
    "Last_names = %sql select l_name as Last_name from competitors;\n",
    "Last_names"
   ]
  },
  {
   "cell_type": "code",
   "execution_count": 23,
   "id": "7672802a-9484-4721-9c56-d929f3f48a55",
   "metadata": {},
   "outputs": [],
   "source": [
    "Last_names = Last_names.DataFrame()"
   ]
  },
  {
   "cell_type": "markdown",
   "id": "6b152dcb-1be4-46b8-876d-175280e58753",
   "metadata": {},
   "source": [
    "Analyzing a CSV file using pandas and SQL magic:"
   ]
  },
  {
   "cell_type": "code",
   "execution_count": 24,
   "id": "fd161ec5-0928-4944-ba43-e2f7f817c369",
   "metadata": {},
   "outputs": [],
   "source": [
    "con = sqlite3.connect(\"database_name.db\")\n",
    "cur = con.cursor()"
   ]
  },
  {
   "cell_type": "code",
   "execution_count": 25,
   "id": "24ede91d-6f27-4687-b9bd-deeb932afec1",
   "metadata": {},
   "outputs": [
    {
     "ename": "NameError",
     "evalue": "name 'pandas' is not defined",
     "output_type": "error",
     "traceback": [
      "\u001b[1;31m---------------------------------------------------------------------------\u001b[0m",
      "\u001b[1;31mNameError\u001b[0m                                 Traceback (most recent call last)",
      "\u001b[1;32m~\\AppData\\Local\\Temp\\ipykernel_14080\\569379975.py\u001b[0m in \u001b[0;36m<module>\u001b[1;34m\u001b[0m\n\u001b[1;32m----> 1\u001b[1;33m \u001b[0mdf\u001b[0m \u001b[1;33m=\u001b[0m \u001b[0mpandas\u001b[0m\u001b[1;33m.\u001b[0m\u001b[0mread_csv\u001b[0m\u001b[1;33m(\u001b[0m\u001b[1;34m'file_name.csv'\u001b[0m\u001b[1;33m)\u001b[0m\u001b[1;33m\u001b[0m\u001b[1;33m\u001b[0m\u001b[0m\n\u001b[0m\u001b[0;32m      2\u001b[0m \u001b[0mdf\u001b[0m\u001b[1;33m.\u001b[0m\u001b[0mto_sql\u001b[0m\u001b[1;33m(\u001b[0m\u001b[1;34m\"table_name\"\u001b[0m\u001b[1;33m,\u001b[0m \u001b[0mcon\u001b[0m\u001b[1;33m,\u001b[0m \u001b[0mif_exists\u001b[0m\u001b[1;33m=\u001b[0m\u001b[1;34m'replace'\u001b[0m\u001b[1;33m,\u001b[0m \u001b[0mindex\u001b[0m\u001b[1;33m=\u001b[0m\u001b[1;32mFalse\u001b[0m\u001b[1;33m,\u001b[0m\u001b[0mmethod\u001b[0m\u001b[1;33m=\u001b[0m\u001b[1;34m\"multi\"\u001b[0m\u001b[1;33m)\u001b[0m\u001b[1;33m\u001b[0m\u001b[1;33m\u001b[0m\u001b[0m\n",
      "\u001b[1;31mNameError\u001b[0m: name 'pandas' is not defined"
     ]
    }
   ],
   "source": [
    "df = pandas.read_csv('file_name.csv')\n",
    "df.to_sql(\"table_name\", con, if_exists='replace', index=False,method=\"multi\")"
   ]
  },
  {
   "cell_type": "markdown",
   "id": "bf1197cb-04c5-40f4-bcde-3c9fb2544cb8",
   "metadata": {},
   "source": [
    "Get tables' names"
   ]
  },
  {
   "cell_type": "code",
   "execution_count": null,
   "id": "af0ed2b5-b336-4168-a151-b787b3d0fd37",
   "metadata": {
    "tags": []
   },
   "outputs": [],
   "source": [
    "%sql select name from sqlite_master where type='table';"
   ]
  },
  {
   "cell_type": "code",
   "execution_count": null,
   "id": "2cb693d7-59af-49ca-b836-a5b3b642a01d",
   "metadata": {},
   "outputs": [],
   "source": [
    "# Query to retrieve the number of columns in the SCHOOLS table\n",
    "%sql select count(name) from PRAGMA_TABLE_INFO('CHICAGO_PUBLIC_SCHOOLS_DATA');b"
   ]
  },
  {
   "cell_type": "code",
   "execution_count": null,
   "id": "5ef0e9dc-5d7c-4ac3-a5f5-ce1937c1c96f",
   "metadata": {},
   "outputs": [],
   "source": [
    "# Query to retrieve all column names in the SCHOOLS table along with their datatypes and length\n",
    "%sql SELECT name,type,length(type) FROM PRAGMA_TABLE_INFO('CHICAGO_PUBLIC_SCHOOLS_DATA');"
   ]
  }
 ],
 "metadata": {
  "kernelspec": {
   "display_name": "Python 3 (ipykernel)",
   "language": "python",
   "name": "python3"
  },
  "language_info": {
   "codemirror_mode": {
    "name": "ipython",
    "version": 3
   },
   "file_extension": ".py",
   "mimetype": "text/x-python",
   "name": "python",
   "nbconvert_exporter": "python",
   "pygments_lexer": "ipython3",
   "version": "3.9.13"
  }
 },
 "nbformat": 4,
 "nbformat_minor": 5
}
